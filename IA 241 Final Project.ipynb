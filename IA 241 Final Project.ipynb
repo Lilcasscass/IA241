{
 "cells": [
  {
   "cell_type": "markdown",
   "id": "utility-latino",
   "metadata": {},
   "source": [
    "# Analyzing Mexico's COVID-19 Data in Python"
   ]
  },
  {
   "cell_type": "markdown",
   "id": "announced-illness",
   "metadata": {},
   "source": [
    "![covid image](https://cdn11.bigcommerce.com/s-ey7tq/images/stencil/1280x1280/products/3421/18792/mexico-flag__84644.1575325491.jpg?c=2)"
   ]
  },
  {
   "cell_type": "markdown",
   "id": "plastic-plate",
   "metadata": {},
   "source": [
    "### _Mexico flag_"
   ]
  },
  {
   "cell_type": "markdown",
   "id": "recreational-rocket",
   "metadata": {},
   "source": [
    "## Data Source"
   ]
  },
  {
   "cell_type": "markdown",
   "id": "sonic-branch",
   "metadata": {},
   "source": [
    "### The COVID-19 pandemic is an ongoing pandemic caused by the virus SARS-CoV-2. It became a declared pandemic in March of 2020 by the World Health Organization."
   ]
  },
  {
   "cell_type": "markdown",
   "id": "romance-scholar",
   "metadata": {},
   "source": [
    "This data is from the [European Centre for Disease Prevention and Control]('https://www.ecdc.europa.eu/en/publications-data/download-todays-data-geographic-distribution-covid-19-cases-worldwide')"
   ]
  },
  {
   "cell_type": "code",
   "execution_count": 5,
   "id": "alpha-renewal",
   "metadata": {},
   "outputs": [],
   "source": [
    "%matplotlib inline\n",
    "import pandas"
   ]
  },
  {
   "cell_type": "markdown",
   "id": "applied-leave",
   "metadata": {},
   "source": [
    "## Import Data from S3 Bucket"
   ]
  },
  {
   "cell_type": "code",
   "execution_count": 6,
   "id": "elementary-jonathan",
   "metadata": {},
   "outputs": [],
   "source": [
    "df = pandas.read_excel('s3://cassidy-ia241-2021spring/COVID-19-geographic-disbtribution-worldwide-2020-12-14(1).xls')"
   ]
  },
  {
   "cell_type": "markdown",
   "id": "involved-calcium",
   "metadata": {},
   "source": [
    "## Mexico's Data"
   ]
  },
  {
   "cell_type": "code",
   "execution_count": 22,
   "id": "eleven-cassette",
   "metadata": {
    "scrolled": true
   },
   "outputs": [],
   "source": [
    "df['case_to_pop_ratio']=df['cases']/df['popData2019']*100000000"
   ]
  },
  {
   "cell_type": "code",
   "execution_count": 28,
   "id": "incomplete-sound",
   "metadata": {
    "scrolled": true
   },
   "outputs": [
    {
     "data": {
      "text/html": [
       "<div>\n",
       "<style scoped>\n",
       "    .dataframe tbody tr th:only-of-type {\n",
       "        vertical-align: middle;\n",
       "    }\n",
       "\n",
       "    .dataframe tbody tr th {\n",
       "        vertical-align: top;\n",
       "    }\n",
       "\n",
       "    .dataframe thead th {\n",
       "        text-align: right;\n",
       "    }\n",
       "</style>\n",
       "<table border=\"1\" class=\"dataframe\">\n",
       "  <thead>\n",
       "    <tr style=\"text-align: right;\">\n",
       "      <th></th>\n",
       "      <th>dateRep</th>\n",
       "      <th>day</th>\n",
       "      <th>month</th>\n",
       "      <th>year</th>\n",
       "      <th>cases</th>\n",
       "      <th>deaths</th>\n",
       "      <th>countriesAndTerritories</th>\n",
       "      <th>geoId</th>\n",
       "      <th>countryterritoryCode</th>\n",
       "      <th>popData2019</th>\n",
       "      <th>continentExp</th>\n",
       "      <th>Cumulative_number_for_14_days_of_COVID-19_cases_per_100000</th>\n",
       "      <th>case_to_pop_ratio</th>\n",
       "    </tr>\n",
       "  </thead>\n",
       "  <tbody>\n",
       "    <tr>\n",
       "      <th>36970</th>\n",
       "      <td>2020-12-14</td>\n",
       "      <td>14</td>\n",
       "      <td>12</td>\n",
       "      <td>2020</td>\n",
       "      <td>8608</td>\n",
       "      <td>249</td>\n",
       "      <td>Mexico</td>\n",
       "      <td>MX</td>\n",
       "      <td>MEX</td>\n",
       "      <td>127575529.0</td>\n",
       "      <td>America</td>\n",
       "      <td>112.069298</td>\n",
       "      <td>6747.375510</td>\n",
       "    </tr>\n",
       "    <tr>\n",
       "      <th>36971</th>\n",
       "      <td>2020-12-13</td>\n",
       "      <td>13</td>\n",
       "      <td>12</td>\n",
       "      <td>2020</td>\n",
       "      <td>12057</td>\n",
       "      <td>685</td>\n",
       "      <td>Mexico</td>\n",
       "      <td>MX</td>\n",
       "      <td>MEX</td>\n",
       "      <td>127575529.0</td>\n",
       "      <td>America</td>\n",
       "      <td>110.329153</td>\n",
       "      <td>9450.872040</td>\n",
       "    </tr>\n",
       "    <tr>\n",
       "      <th>36972</th>\n",
       "      <td>2020-12-12</td>\n",
       "      <td>12</td>\n",
       "      <td>12</td>\n",
       "      <td>2020</td>\n",
       "      <td>12253</td>\n",
       "      <td>693</td>\n",
       "      <td>Mexico</td>\n",
       "      <td>MX</td>\n",
       "      <td>MEX</td>\n",
       "      <td>127575529.0</td>\n",
       "      <td>America</td>\n",
       "      <td>118.192730</td>\n",
       "      <td>9604.506519</td>\n",
       "    </tr>\n",
       "    <tr>\n",
       "      <th>36973</th>\n",
       "      <td>2020-12-11</td>\n",
       "      <td>11</td>\n",
       "      <td>12</td>\n",
       "      <td>2020</td>\n",
       "      <td>11897</td>\n",
       "      <td>671</td>\n",
       "      <td>Mexico</td>\n",
       "      <td>MX</td>\n",
       "      <td>MEX</td>\n",
       "      <td>127575529.0</td>\n",
       "      <td>America</td>\n",
       "      <td>108.588223</td>\n",
       "      <td>9325.456138</td>\n",
       "    </tr>\n",
       "    <tr>\n",
       "      <th>36974</th>\n",
       "      <td>2020-12-10</td>\n",
       "      <td>10</td>\n",
       "      <td>12</td>\n",
       "      <td>2020</td>\n",
       "      <td>21974</td>\n",
       "      <td>781</td>\n",
       "      <td>Mexico</td>\n",
       "      <td>MX</td>\n",
       "      <td>MEX</td>\n",
       "      <td>127575529.0</td>\n",
       "      <td>America</td>\n",
       "      <td>105.617434</td>\n",
       "      <td>17224.306395</td>\n",
       "    </tr>\n",
       "    <tr>\n",
       "      <th>36975</th>\n",
       "      <td>2020-12-09</td>\n",
       "      <td>9</td>\n",
       "      <td>12</td>\n",
       "      <td>2020</td>\n",
       "      <td>1006</td>\n",
       "      <td>800</td>\n",
       "      <td>Mexico</td>\n",
       "      <td>MX</td>\n",
       "      <td>MEX</td>\n",
       "      <td>127575529.0</td>\n",
       "      <td>America</td>\n",
       "      <td>96.494211</td>\n",
       "      <td>788.552482</td>\n",
       "    </tr>\n",
       "    <tr>\n",
       "      <th>36976</th>\n",
       "      <td>2020-12-08</td>\n",
       "      <td>8</td>\n",
       "      <td>12</td>\n",
       "      <td>2020</td>\n",
       "      <td>6399</td>\n",
       "      <td>357</td>\n",
       "      <td>Mexico</td>\n",
       "      <td>MX</td>\n",
       "      <td>MEX</td>\n",
       "      <td>127575529.0</td>\n",
       "      <td>America</td>\n",
       "      <td>104.166529</td>\n",
       "      <td>5015.852217</td>\n",
       "    </tr>\n",
       "    <tr>\n",
       "      <th>36977</th>\n",
       "      <td>2020-12-07</td>\n",
       "      <td>7</td>\n",
       "      <td>12</td>\n",
       "      <td>2020</td>\n",
       "      <td>7455</td>\n",
       "      <td>261</td>\n",
       "      <td>Mexico</td>\n",
       "      <td>MX</td>\n",
       "      <td>MEX</td>\n",
       "      <td>127575529.0</td>\n",
       "      <td>America</td>\n",
       "      <td>105.016221</td>\n",
       "      <td>5843.597168</td>\n",
       "    </tr>\n",
       "    <tr>\n",
       "      <th>36978</th>\n",
       "      <td>2020-12-06</td>\n",
       "      <td>6</td>\n",
       "      <td>12</td>\n",
       "      <td>2020</td>\n",
       "      <td>11625</td>\n",
       "      <td>593</td>\n",
       "      <td>Mexico</td>\n",
       "      <td>MX</td>\n",
       "      <td>MEX</td>\n",
       "      <td>127575529.0</td>\n",
       "      <td>America</td>\n",
       "      <td>106.373849</td>\n",
       "      <td>9112.249105</td>\n",
       "    </tr>\n",
       "    <tr>\n",
       "      <th>36979</th>\n",
       "      <td>2020-12-05</td>\n",
       "      <td>5</td>\n",
       "      <td>12</td>\n",
       "      <td>2020</td>\n",
       "      <td>12127</td>\n",
       "      <td>690</td>\n",
       "      <td>Mexico</td>\n",
       "      <td>MX</td>\n",
       "      <td>MEX</td>\n",
       "      <td>127575529.0</td>\n",
       "      <td>America</td>\n",
       "      <td>102.528283</td>\n",
       "      <td>9505.741497</td>\n",
       "    </tr>\n",
       "  </tbody>\n",
       "</table>\n",
       "</div>"
      ],
      "text/plain": [
       "         dateRep  day  month  year  cases  deaths countriesAndTerritories  \\\n",
       "36970 2020-12-14   14     12  2020   8608     249                  Mexico   \n",
       "36971 2020-12-13   13     12  2020  12057     685                  Mexico   \n",
       "36972 2020-12-12   12     12  2020  12253     693                  Mexico   \n",
       "36973 2020-12-11   11     12  2020  11897     671                  Mexico   \n",
       "36974 2020-12-10   10     12  2020  21974     781                  Mexico   \n",
       "36975 2020-12-09    9     12  2020   1006     800                  Mexico   \n",
       "36976 2020-12-08    8     12  2020   6399     357                  Mexico   \n",
       "36977 2020-12-07    7     12  2020   7455     261                  Mexico   \n",
       "36978 2020-12-06    6     12  2020  11625     593                  Mexico   \n",
       "36979 2020-12-05    5     12  2020  12127     690                  Mexico   \n",
       "\n",
       "      geoId countryterritoryCode  popData2019 continentExp  \\\n",
       "36970    MX                  MEX  127575529.0      America   \n",
       "36971    MX                  MEX  127575529.0      America   \n",
       "36972    MX                  MEX  127575529.0      America   \n",
       "36973    MX                  MEX  127575529.0      America   \n",
       "36974    MX                  MEX  127575529.0      America   \n",
       "36975    MX                  MEX  127575529.0      America   \n",
       "36976    MX                  MEX  127575529.0      America   \n",
       "36977    MX                  MEX  127575529.0      America   \n",
       "36978    MX                  MEX  127575529.0      America   \n",
       "36979    MX                  MEX  127575529.0      America   \n",
       "\n",
       "       Cumulative_number_for_14_days_of_COVID-19_cases_per_100000  \\\n",
       "36970                                         112.069298            \n",
       "36971                                         110.329153            \n",
       "36972                                         118.192730            \n",
       "36973                                         108.588223            \n",
       "36974                                         105.617434            \n",
       "36975                                          96.494211            \n",
       "36976                                         104.166529            \n",
       "36977                                         105.016221            \n",
       "36978                                         106.373849            \n",
       "36979                                         102.528283            \n",
       "\n",
       "       case_to_pop_ratio  \n",
       "36970        6747.375510  \n",
       "36971        9450.872040  \n",
       "36972        9604.506519  \n",
       "36973        9325.456138  \n",
       "36974       17224.306395  \n",
       "36975         788.552482  \n",
       "36976        5015.852217  \n",
       "36977        5843.597168  \n",
       "36978        9112.249105  \n",
       "36979        9505.741497  "
      ]
     },
     "execution_count": 28,
     "metadata": {},
     "output_type": "execute_result"
    }
   ],
   "source": [
    "mexico_data = df.loc[ df['countriesAndTerritories']=='Mexico' ]\n",
    "\n",
    "mexico_data[:10]"
   ]
  },
  {
   "cell_type": "markdown",
   "id": "pending-jenny",
   "metadata": {},
   "source": [
    "### _This table shows 10 rows of data for Mexico and at the end (scroll to the right) you will see the ratio per day of cases to population._"
   ]
  },
  {
   "cell_type": "markdown",
   "id": "minimal-fleece",
   "metadata": {},
   "source": [
    "## Ratio of Cases to Total Population"
   ]
  },
  {
   "cell_type": "code",
   "execution_count": 31,
   "id": "fabulous-granny",
   "metadata": {
    "scrolled": true
   },
   "outputs": [
    {
     "data": {
      "text/plain": [
       "<AxesSubplot:xlabel='cases', ylabel='popData2019'>"
      ]
     },
     "execution_count": 31,
     "metadata": {},
     "output_type": "execute_result"
    },
    {
     "data": {
      "image/png": "[encoded data removed]",
      "text/plain": [
       "<Figure size 432x288 with 2 Axes>"
      ]
     },
     "metadata": {
      "needs_background": "light"
     },
     "output_type": "display_data"
    }
   ],
   "source": [
    "mexico_data.plot.scatter(x='cases',y='popData2019',c='case_to_pop_ratio')"
   ]
  },
  {
   "cell_type": "markdown",
   "id": "thousand-sight",
   "metadata": {},
   "source": [
    "### _This scatter plot shows the cases to population ratio._"
   ]
  },
  {
   "cell_type": "markdown",
   "id": "invisible-victoria",
   "metadata": {},
   "source": [
    "## Total Cases Over Time"
   ]
  },
  {
   "cell_type": "code",
   "execution_count": 10,
   "id": "modern-referral",
   "metadata": {},
   "outputs": [
    {
     "data": {
      "text/plain": [
       "<AxesSubplot:xlabel='month', ylabel='cases'>"
      ]
     },
     "execution_count": 10,
     "metadata": {},
     "output_type": "execute_result"
    },
    {
     "data": {
      "image/png": "[encoded data removed]",
      "text/plain": [
       "<Figure size 432x288 with 1 Axes>"
      ]
     },
     "metadata": {
      "needs_background": "light"
     },
     "output_type": "display_data"
    }
   ],
   "source": [
    "mexico_data.plot.scatter(x='month',y='cases')"
   ]
  },
  {
   "cell_type": "markdown",
   "id": "listed-infrastructure",
   "metadata": {},
   "source": [
    "### _This scatter plot shows the cases over the months from January to December._"
   ]
  },
  {
   "cell_type": "markdown",
   "id": "noticed-amplifier",
   "metadata": {},
   "source": [
    "## Total Deaths Over Time"
   ]
  },
  {
   "cell_type": "code",
   "execution_count": 11,
   "id": "ahead-aurora",
   "metadata": {},
   "outputs": [
    {
     "data": {
      "text/plain": [
       "<AxesSubplot:xlabel='month', ylabel='deaths'>"
      ]
     },
     "execution_count": 11,
     "metadata": {},
     "output_type": "execute_result"
    },
    {
     "data": {
      "image/png": "[encoded data removed]",
      "text/plain": [
       "<Figure size 432x288 with 1 Axes>"
      ]
     },
     "metadata": {
      "needs_background": "light"
     },
     "output_type": "display_data"
    }
   ],
   "source": [
    "mexico_data.plot.scatter(x='month',y='deaths')"
   ]
  },
  {
   "cell_type": "markdown",
   "id": "historic-interest",
   "metadata": {},
   "source": [
    "### _This scatter plot shows the total deaths over the months from January to December._"
   ]
  },
  {
   "cell_type": "markdown",
   "id": "enormous-lotus",
   "metadata": {},
   "source": [
    "## To conclude, Mexico has one of the lower amounts of cases and death rates. The limitations of this particular project include that the tables only show 10 rows opposed to all of them, albeit there would never be enough space for that. Any suggestions? Please let me know."
   ]
  },
  {
   "cell_type": "markdown",
   "id": "angry-leadership",
   "metadata": {},
   "source": [
    "## Author: Cassidy Smith"
   ]
  },
  {
   "cell_type": "markdown",
   "id": "dirty-floating",
   "metadata": {},
   "source": [
    "### Email: smit48ca@dukes.jmu.edu"
   ]
  }
 ],
 "metadata": {
  "kernelspec": {
   "display_name": "conda_python3",
   "language": "python",
   "name": "conda_python3"
  },
  "language_info": {
   "codemirror_mode": {
    "name": "ipython",
    "version": 3
   },
   "file_extension": ".py",
   "mimetype": "text/x-python",
   "name": "python",
   "nbconvert_exporter": "python",
   "pygments_lexer": "ipython3",
   "version": "3.6.13"
  }
 },
 "nbformat": 4,
 "nbformat_minor": 5
}
